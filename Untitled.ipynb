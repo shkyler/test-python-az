{
 "cells": [
  {
   "cell_type": "markdown",
   "metadata": {},
   "source": [
    "# Testing functionality from \"An A-Z of Python Tricks\"\n",
    "\n",
    "https://www.freecodecamp.org/news/an-a-z-of-useful-python-tricks-b467524ee747/?fbclid=IwAR3x58jlNgkSTnM0p8bwBHDdLV0G_C9kKgDcao5E21cZEr8vTqThu_kxsOI"
   ]
  },
  {
   "cell_type": "markdown",
   "metadata": {},
   "source": [
    "## bashplotlib\n",
    "\n",
    "Install bashplotlib\n",
    "`pip install basplotlib`\n",
    "\n",
    "Test a scatterplot"
   ]
  },
  {
   "cell_type": "code",
   "execution_count": 20,
   "metadata": {},
   "outputs": [
    {
     "name": "stdout",
     "output_type": "stream",
     "text": [
      "-----------------------------------------------------------------\n",
      "|                        Anscombes Set 1                        |\n",
      "-----------------------------------------------------------------\n",
      "----------------------------------------------------------------\n",
      "| \u001b[94m \u001b[39m\u001b[94m \u001b[39m\u001b[94m \u001b[39m\u001b[94m \u001b[39m\u001b[94m \u001b[39m\u001b[94m \u001b[39m\u001b[94m \u001b[39m\u001b[94m \u001b[39m\u001b[94m \u001b[39m\u001b[94m \u001b[39m\u001b[94m \u001b[39m\u001b[94m \u001b[39m\u001b[94m \u001b[39m\u001b[94m \u001b[39m\u001b[94m \u001b[39m\u001b[94m \u001b[39m\u001b[94m \u001b[39m\u001b[94m \u001b[39m\u001b[94m \u001b[39m\u001b[94m \u001b[39m\u001b[94m \u001b[39m\u001b[94m \u001b[39m\u001b[94m \u001b[39m\u001b[94m \u001b[39m\u001b[94m \u001b[39m\u001b[94m*\u001b[39m\u001b[94m \u001b[39m\u001b[94m \u001b[39m\u001b[94m \u001b[39m\u001b[94m \u001b[39m\u001b[94m \u001b[39m|\n",
      "| \u001b[94m \u001b[39m\u001b[94m \u001b[39m\u001b[94m \u001b[39m\u001b[94m \u001b[39m\u001b[94m \u001b[39m\u001b[94m \u001b[39m\u001b[94m \u001b[39m\u001b[94m \u001b[39m\u001b[94m \u001b[39m\u001b[94m \u001b[39m\u001b[94m \u001b[39m\u001b[94m \u001b[39m\u001b[94m \u001b[39m\u001b[94m \u001b[39m\u001b[94m \u001b[39m\u001b[94m \u001b[39m\u001b[94m \u001b[39m\u001b[94m \u001b[39m\u001b[94m \u001b[39m\u001b[94m \u001b[39m\u001b[94m \u001b[39m\u001b[94m \u001b[39m\u001b[94m \u001b[39m\u001b[94m \u001b[39m\u001b[94m \u001b[39m\u001b[94m \u001b[39m\u001b[94m \u001b[39m\u001b[94m \u001b[39m\u001b[94m \u001b[39m\u001b[94m \u001b[39m\u001b[94m \u001b[39m|\n",
      "| \u001b[94m \u001b[39m\u001b[94m \u001b[39m\u001b[94m \u001b[39m\u001b[94m \u001b[39m\u001b[94m \u001b[39m\u001b[94m \u001b[39m\u001b[94m \u001b[39m\u001b[94m \u001b[39m\u001b[94m \u001b[39m\u001b[94m \u001b[39m\u001b[94m \u001b[39m\u001b[94m \u001b[39m\u001b[94m \u001b[39m\u001b[94m \u001b[39m\u001b[94m \u001b[39m\u001b[94m \u001b[39m\u001b[94m \u001b[39m\u001b[94m \u001b[39m\u001b[94m \u001b[39m\u001b[94m \u001b[39m\u001b[94m \u001b[39m\u001b[94m \u001b[39m\u001b[94m \u001b[39m\u001b[94m \u001b[39m\u001b[94m \u001b[39m\u001b[94m \u001b[39m\u001b[94m \u001b[39m\u001b[94m \u001b[39m\u001b[94m \u001b[39m\u001b[94m \u001b[39m\u001b[94m \u001b[39m|\n",
      "| \u001b[94m \u001b[39m\u001b[94m \u001b[39m\u001b[94m \u001b[39m\u001b[94m \u001b[39m\u001b[94m \u001b[39m\u001b[94m \u001b[39m\u001b[94m \u001b[39m\u001b[94m \u001b[39m\u001b[94m \u001b[39m\u001b[94m \u001b[39m\u001b[94m \u001b[39m\u001b[94m \u001b[39m\u001b[94m \u001b[39m\u001b[94m \u001b[39m\u001b[94m \u001b[39m\u001b[94m \u001b[39m\u001b[94m \u001b[39m\u001b[94m \u001b[39m\u001b[94m \u001b[39m\u001b[94m \u001b[39m\u001b[94m \u001b[39m\u001b[94m \u001b[39m\u001b[94m \u001b[39m\u001b[94m \u001b[39m\u001b[94m \u001b[39m\u001b[94m \u001b[39m\u001b[94m \u001b[39m\u001b[94m \u001b[39m\u001b[94m \u001b[39m\u001b[94m \u001b[39m\u001b[94m \u001b[39m|\n",
      "| \u001b[94m \u001b[39m\u001b[94m \u001b[39m\u001b[94m \u001b[39m\u001b[94m \u001b[39m\u001b[94m \u001b[39m\u001b[94m \u001b[39m\u001b[94m \u001b[39m\u001b[94m \u001b[39m\u001b[94m \u001b[39m\u001b[94m \u001b[39m\u001b[94m \u001b[39m\u001b[94m \u001b[39m\u001b[94m \u001b[39m\u001b[94m \u001b[39m\u001b[94m \u001b[39m\u001b[94m \u001b[39m\u001b[94m \u001b[39m\u001b[94m \u001b[39m\u001b[94m \u001b[39m\u001b[94m \u001b[39m\u001b[94m \u001b[39m\u001b[94m \u001b[39m\u001b[94m \u001b[39m\u001b[94m \u001b[39m\u001b[94m \u001b[39m\u001b[94m \u001b[39m\u001b[94m \u001b[39m\u001b[94m \u001b[39m\u001b[94m \u001b[39m\u001b[94m \u001b[39m\u001b[94m \u001b[39m|\n",
      "| \u001b[94m \u001b[39m\u001b[94m \u001b[39m\u001b[94m \u001b[39m\u001b[94m \u001b[39m\u001b[94m \u001b[39m\u001b[94m \u001b[39m\u001b[94m \u001b[39m\u001b[94m \u001b[39m\u001b[94m \u001b[39m\u001b[94m \u001b[39m\u001b[94m \u001b[39m\u001b[94m \u001b[39m\u001b[94m \u001b[39m\u001b[94m \u001b[39m\u001b[94m \u001b[39m\u001b[94m \u001b[39m\u001b[94m \u001b[39m\u001b[94m \u001b[39m\u001b[94m \u001b[39m\u001b[94m \u001b[39m\u001b[94m \u001b[39m\u001b[94m \u001b[39m\u001b[94m \u001b[39m\u001b[94m \u001b[39m\u001b[94m \u001b[39m\u001b[94m \u001b[39m\u001b[94m \u001b[39m\u001b[94m \u001b[39m\u001b[94m \u001b[39m\u001b[94m \u001b[39m\u001b[94m \u001b[39m|\n",
      "| \u001b[94m \u001b[39m\u001b[94m \u001b[39m\u001b[94m \u001b[39m\u001b[94m \u001b[39m\u001b[94m \u001b[39m\u001b[94m \u001b[39m\u001b[94m \u001b[39m\u001b[94m \u001b[39m\u001b[94m \u001b[39m\u001b[94m \u001b[39m\u001b[94m \u001b[39m\u001b[94m \u001b[39m\u001b[94m \u001b[39m\u001b[94m \u001b[39m\u001b[94m \u001b[39m\u001b[94m \u001b[39m\u001b[94m \u001b[39m\u001b[94m \u001b[39m\u001b[94m \u001b[39m\u001b[94m \u001b[39m\u001b[94m \u001b[39m\u001b[94m \u001b[39m\u001b[94m \u001b[39m\u001b[94m \u001b[39m\u001b[94m \u001b[39m\u001b[94m \u001b[39m\u001b[94m \u001b[39m\u001b[94m \u001b[39m\u001b[94m \u001b[39m\u001b[94m \u001b[39m\u001b[94m \u001b[39m|\n",
      "| \u001b[94m \u001b[39m\u001b[94m \u001b[39m\u001b[94m \u001b[39m\u001b[94m \u001b[39m\u001b[94m \u001b[39m\u001b[94m \u001b[39m\u001b[94m \u001b[39m\u001b[94m \u001b[39m\u001b[94m \u001b[39m\u001b[94m \u001b[39m\u001b[94m \u001b[39m\u001b[94m \u001b[39m\u001b[94m \u001b[39m\u001b[94m \u001b[39m\u001b[94m \u001b[39m\u001b[94m \u001b[39m\u001b[94m \u001b[39m\u001b[94m \u001b[39m\u001b[94m \u001b[39m\u001b[94m \u001b[39m\u001b[94m \u001b[39m\u001b[94m \u001b[39m\u001b[94m \u001b[39m\u001b[94m \u001b[39m\u001b[94m \u001b[39m\u001b[94m \u001b[39m\u001b[94m \u001b[39m\u001b[94m \u001b[39m\u001b[94m \u001b[39m\u001b[94m \u001b[39m\u001b[94m \u001b[39m|\n",
      "| \u001b[94m \u001b[39m\u001b[94m \u001b[39m\u001b[94m \u001b[39m\u001b[94m \u001b[39m\u001b[94m \u001b[39m\u001b[94m \u001b[39m\u001b[94m \u001b[39m\u001b[94m \u001b[39m\u001b[94m \u001b[39m\u001b[94m \u001b[39m\u001b[94m \u001b[39m\u001b[94m \u001b[39m\u001b[94m \u001b[39m\u001b[94m \u001b[39m\u001b[94m \u001b[39m\u001b[94m \u001b[39m\u001b[94m \u001b[39m\u001b[94m \u001b[39m\u001b[94m \u001b[39m\u001b[94m \u001b[39m\u001b[94m \u001b[39m\u001b[94m \u001b[39m\u001b[94m \u001b[39m\u001b[94m \u001b[39m\u001b[94m \u001b[39m\u001b[94m \u001b[39m\u001b[94m \u001b[39m\u001b[94m \u001b[39m\u001b[94m \u001b[39m\u001b[94m \u001b[39m\u001b[94m \u001b[39m|\n",
      "| \u001b[94m \u001b[39m\u001b[94m \u001b[39m\u001b[94m \u001b[39m\u001b[94m \u001b[39m\u001b[94m \u001b[39m\u001b[94m \u001b[39m\u001b[94m \u001b[39m\u001b[94m \u001b[39m\u001b[94m \u001b[39m\u001b[94m \u001b[39m\u001b[94m \u001b[39m\u001b[94m \u001b[39m\u001b[94m \u001b[39m\u001b[94m \u001b[39m\u001b[94m \u001b[39m\u001b[94m \u001b[39m\u001b[94m \u001b[39m\u001b[94m \u001b[39m\u001b[94m \u001b[39m\u001b[94m \u001b[39m\u001b[94m \u001b[39m\u001b[94m \u001b[39m\u001b[94m \u001b[39m\u001b[94m \u001b[39m\u001b[94m \u001b[39m\u001b[94m \u001b[39m\u001b[94m \u001b[39m\u001b[94m \u001b[39m\u001b[94m \u001b[39m\u001b[94m \u001b[39m\u001b[94m \u001b[39m|\n",
      "| \u001b[94m \u001b[39m\u001b[94m \u001b[39m\u001b[94m \u001b[39m\u001b[94m \u001b[39m\u001b[94m \u001b[39m\u001b[94m \u001b[39m\u001b[94m \u001b[39m\u001b[94m \u001b[39m\u001b[94m \u001b[39m\u001b[94m \u001b[39m\u001b[94m \u001b[39m\u001b[94m \u001b[39m\u001b[94m \u001b[39m\u001b[94m \u001b[39m\u001b[94m \u001b[39m\u001b[94m \u001b[39m\u001b[94m*\u001b[39m\u001b[94m \u001b[39m\u001b[94m \u001b[39m\u001b[94m \u001b[39m\u001b[94m \u001b[39m\u001b[94m \u001b[39m\u001b[94m \u001b[39m\u001b[94m \u001b[39m\u001b[94m \u001b[39m\u001b[94m \u001b[39m\u001b[94m \u001b[39m\u001b[94m \u001b[39m\u001b[94m \u001b[39m\u001b[94m \u001b[39m\u001b[94m \u001b[39m|\n",
      "| \u001b[94m \u001b[39m\u001b[94m \u001b[39m\u001b[94m \u001b[39m\u001b[94m \u001b[39m\u001b[94m \u001b[39m\u001b[94m \u001b[39m\u001b[94m \u001b[39m\u001b[94m \u001b[39m\u001b[94m \u001b[39m\u001b[94m \u001b[39m\u001b[94m \u001b[39m\u001b[94m \u001b[39m\u001b[94m \u001b[39m\u001b[94m \u001b[39m\u001b[94m \u001b[39m\u001b[94m \u001b[39m\u001b[94m \u001b[39m\u001b[94m \u001b[39m\u001b[94m \u001b[39m\u001b[94m \u001b[39m\u001b[94m \u001b[39m\u001b[94m \u001b[39m\u001b[94m \u001b[39m\u001b[94m \u001b[39m\u001b[94m \u001b[39m\u001b[94m \u001b[39m\u001b[94m \u001b[39m\u001b[94m \u001b[39m\u001b[94m \u001b[39m\u001b[94m \u001b[39m\u001b[94m \u001b[39m|\n",
      "| \u001b[94m \u001b[39m\u001b[94m \u001b[39m\u001b[94m \u001b[39m\u001b[94m \u001b[39m\u001b[94m \u001b[39m\u001b[94m \u001b[39m\u001b[94m \u001b[39m\u001b[94m \u001b[39m\u001b[94m \u001b[39m\u001b[94m \u001b[39m\u001b[94m \u001b[39m\u001b[94m \u001b[39m\u001b[94m \u001b[39m\u001b[94m \u001b[39m\u001b[94m \u001b[39m\u001b[94m \u001b[39m\u001b[94m \u001b[39m\u001b[94m \u001b[39m\u001b[94m \u001b[39m\u001b[94m \u001b[39m\u001b[94m \u001b[39m\u001b[94m \u001b[39m\u001b[94m*\u001b[39m\u001b[94m \u001b[39m\u001b[94m \u001b[39m\u001b[94m \u001b[39m\u001b[94m \u001b[39m\u001b[94m \u001b[39m\u001b[94m \u001b[39m\u001b[94m \u001b[39m\u001b[94m \u001b[39m|\n",
      "| \u001b[94m \u001b[39m\u001b[94m \u001b[39m\u001b[94m \u001b[39m\u001b[94m \u001b[39m\u001b[94m \u001b[39m\u001b[94m \u001b[39m\u001b[94m \u001b[39m\u001b[94m \u001b[39m\u001b[94m \u001b[39m\u001b[94m \u001b[39m\u001b[94m \u001b[39m\u001b[94m \u001b[39m\u001b[94m \u001b[39m\u001b[94m \u001b[39m\u001b[94m \u001b[39m\u001b[94m \u001b[39m\u001b[94m \u001b[39m\u001b[94m \u001b[39m\u001b[94m \u001b[39m\u001b[94m*\u001b[39m\u001b[94m \u001b[39m\u001b[94m \u001b[39m\u001b[94m \u001b[39m\u001b[94m \u001b[39m\u001b[94m \u001b[39m\u001b[94m \u001b[39m\u001b[94m \u001b[39m\u001b[94m \u001b[39m\u001b[94m \u001b[39m\u001b[94m \u001b[39m\u001b[94m \u001b[39m|\n",
      "| \u001b[94m \u001b[39m\u001b[94m \u001b[39m\u001b[94m \u001b[39m\u001b[94m \u001b[39m\u001b[94m \u001b[39m\u001b[94m \u001b[39m\u001b[94m \u001b[39m\u001b[94m \u001b[39m\u001b[94m \u001b[39m\u001b[94m \u001b[39m\u001b[94m \u001b[39m\u001b[94m \u001b[39m\u001b[94m \u001b[39m\u001b[94m \u001b[39m\u001b[94m \u001b[39m\u001b[94m \u001b[39m\u001b[94m \u001b[39m\u001b[94m \u001b[39m\u001b[94m \u001b[39m\u001b[94m \u001b[39m\u001b[94m \u001b[39m\u001b[94m \u001b[39m\u001b[94m \u001b[39m\u001b[94m \u001b[39m\u001b[94m \u001b[39m\u001b[94m \u001b[39m\u001b[94m \u001b[39m\u001b[94m \u001b[39m\u001b[94m \u001b[39m\u001b[94m \u001b[39m\u001b[94m \u001b[39m|\n",
      "| \u001b[94m \u001b[39m\u001b[94m \u001b[39m\u001b[94m \u001b[39m\u001b[94m \u001b[39m\u001b[94m \u001b[39m\u001b[94m \u001b[39m\u001b[94m \u001b[39m\u001b[94m \u001b[39m\u001b[94m \u001b[39m\u001b[94m \u001b[39m\u001b[94m \u001b[39m\u001b[94m \u001b[39m\u001b[94m \u001b[39m\u001b[94m \u001b[39m\u001b[94m \u001b[39m\u001b[94m \u001b[39m\u001b[94m \u001b[39m\u001b[94m \u001b[39m\u001b[94m \u001b[39m\u001b[94m \u001b[39m\u001b[94m \u001b[39m\u001b[94m \u001b[39m\u001b[94m \u001b[39m\u001b[94m \u001b[39m\u001b[94m \u001b[39m\u001b[94m \u001b[39m\u001b[94m \u001b[39m\u001b[94m \u001b[39m\u001b[94m*\u001b[39m\u001b[94m \u001b[39m\u001b[94m \u001b[39m|\n",
      "| \u001b[94m \u001b[39m\u001b[94m \u001b[39m\u001b[94m \u001b[39m\u001b[94m \u001b[39m\u001b[94m \u001b[39m\u001b[94m \u001b[39m\u001b[94m \u001b[39m\u001b[94m \u001b[39m\u001b[94m \u001b[39m\u001b[94m \u001b[39m\u001b[94m \u001b[39m\u001b[94m \u001b[39m\u001b[94m \u001b[39m\u001b[94m \u001b[39m\u001b[94m \u001b[39m\u001b[94m \u001b[39m\u001b[94m \u001b[39m\u001b[94m \u001b[39m\u001b[94m \u001b[39m\u001b[94m \u001b[39m\u001b[94m \u001b[39m\u001b[94m \u001b[39m\u001b[94m \u001b[39m\u001b[94m \u001b[39m\u001b[94m \u001b[39m\u001b[94m \u001b[39m\u001b[94m \u001b[39m\u001b[94m \u001b[39m\u001b[94m \u001b[39m\u001b[94m \u001b[39m\u001b[94m \u001b[39m|\n",
      "| \u001b[94m \u001b[39m\u001b[94m \u001b[39m\u001b[94m \u001b[39m\u001b[94m \u001b[39m\u001b[94m \u001b[39m\u001b[94m \u001b[39m\u001b[94m \u001b[39m\u001b[94m*\u001b[39m\u001b[94m \u001b[39m\u001b[94m \u001b[39m\u001b[94m \u001b[39m\u001b[94m \u001b[39m\u001b[94m \u001b[39m\u001b[94m \u001b[39m\u001b[94m \u001b[39m\u001b[94m \u001b[39m\u001b[94m \u001b[39m\u001b[94m \u001b[39m\u001b[94m \u001b[39m\u001b[94m \u001b[39m\u001b[94m \u001b[39m\u001b[94m \u001b[39m\u001b[94m \u001b[39m\u001b[94m \u001b[39m\u001b[94m \u001b[39m\u001b[94m \u001b[39m\u001b[94m \u001b[39m\u001b[94m \u001b[39m\u001b[94m \u001b[39m\u001b[94m \u001b[39m\u001b[94m \u001b[39m|\n",
      "| \u001b[94m \u001b[39m\u001b[94m \u001b[39m\u001b[94m \u001b[39m\u001b[94m \u001b[39m\u001b[94m \u001b[39m\u001b[94m \u001b[39m\u001b[94m \u001b[39m\u001b[94m \u001b[39m\u001b[94m \u001b[39m\u001b[94m \u001b[39m\u001b[94m \u001b[39m\u001b[94m \u001b[39m\u001b[94m \u001b[39m\u001b[94m*\u001b[39m\u001b[94m \u001b[39m\u001b[94m \u001b[39m\u001b[94m \u001b[39m\u001b[94m \u001b[39m\u001b[94m \u001b[39m\u001b[94m \u001b[39m\u001b[94m \u001b[39m\u001b[94m \u001b[39m\u001b[94m \u001b[39m\u001b[94m \u001b[39m\u001b[94m \u001b[39m\u001b[94m \u001b[39m\u001b[94m \u001b[39m\u001b[94m \u001b[39m\u001b[94m \u001b[39m\u001b[94m \u001b[39m\u001b[94m \u001b[39m|\n",
      "| \u001b[94m \u001b[39m\u001b[94m \u001b[39m\u001b[94m \u001b[39m\u001b[94m \u001b[39m\u001b[94m \u001b[39m\u001b[94m \u001b[39m\u001b[94m \u001b[39m\u001b[94m \u001b[39m\u001b[94m \u001b[39m\u001b[94m \u001b[39m\u001b[94m \u001b[39m\u001b[94m \u001b[39m\u001b[94m \u001b[39m\u001b[94m \u001b[39m\u001b[94m \u001b[39m\u001b[94m \u001b[39m\u001b[94m \u001b[39m\u001b[94m \u001b[39m\u001b[94m \u001b[39m\u001b[94m \u001b[39m\u001b[94m \u001b[39m\u001b[94m \u001b[39m\u001b[94m \u001b[39m\u001b[94m \u001b[39m\u001b[94m \u001b[39m\u001b[94m \u001b[39m\u001b[94m \u001b[39m\u001b[94m \u001b[39m\u001b[94m \u001b[39m\u001b[94m \u001b[39m\u001b[94m \u001b[39m|\n",
      "| \u001b[94m \u001b[39m\u001b[94m \u001b[39m\u001b[94m \u001b[39m\u001b[94m \u001b[39m\u001b[94m \u001b[39m\u001b[94m \u001b[39m\u001b[94m \u001b[39m\u001b[94m \u001b[39m\u001b[94m \u001b[39m\u001b[94m \u001b[39m\u001b[94m \u001b[39m\u001b[94m \u001b[39m\u001b[94m \u001b[39m\u001b[94m \u001b[39m\u001b[94m \u001b[39m\u001b[94m \u001b[39m\u001b[94m \u001b[39m\u001b[94m \u001b[39m\u001b[94m \u001b[39m\u001b[94m \u001b[39m\u001b[94m \u001b[39m\u001b[94m \u001b[39m\u001b[94m \u001b[39m\u001b[94m \u001b[39m\u001b[94m \u001b[39m\u001b[94m \u001b[39m\u001b[94m \u001b[39m\u001b[94m \u001b[39m\u001b[94m \u001b[39m\u001b[94m \u001b[39m\u001b[94m \u001b[39m|\n",
      "| \u001b[94m \u001b[39m\u001b[94m \u001b[39m\u001b[94m \u001b[39m\u001b[94m \u001b[39m\u001b[94m \u001b[39m\u001b[94m \u001b[39m\u001b[94m \u001b[39m\u001b[94m \u001b[39m\u001b[94m \u001b[39m\u001b[94m \u001b[39m\u001b[94m \u001b[39m\u001b[94m \u001b[39m\u001b[94m \u001b[39m\u001b[94m \u001b[39m\u001b[94m \u001b[39m\u001b[94m \u001b[39m\u001b[94m \u001b[39m\u001b[94m \u001b[39m\u001b[94m \u001b[39m\u001b[94m \u001b[39m\u001b[94m \u001b[39m\u001b[94m \u001b[39m\u001b[94m \u001b[39m\u001b[94m \u001b[39m\u001b[94m \u001b[39m\u001b[94m \u001b[39m\u001b[94m \u001b[39m\u001b[94m \u001b[39m\u001b[94m \u001b[39m\u001b[94m \u001b[39m\u001b[94m \u001b[39m|\n",
      "| \u001b[94m \u001b[39m\u001b[94m \u001b[39m\u001b[94m \u001b[39m\u001b[94m \u001b[39m\u001b[94m \u001b[39m\u001b[94m \u001b[39m\u001b[94m \u001b[39m\u001b[94m \u001b[39m\u001b[94m \u001b[39m\u001b[94m \u001b[39m\u001b[94m \u001b[39m\u001b[94m \u001b[39m\u001b[94m \u001b[39m\u001b[94m \u001b[39m\u001b[94m \u001b[39m\u001b[94m \u001b[39m\u001b[94m \u001b[39m\u001b[94m \u001b[39m\u001b[94m \u001b[39m\u001b[94m \u001b[39m\u001b[94m \u001b[39m\u001b[94m \u001b[39m\u001b[94m \u001b[39m\u001b[94m \u001b[39m\u001b[94m \u001b[39m\u001b[94m \u001b[39m\u001b[94m \u001b[39m\u001b[94m \u001b[39m\u001b[94m \u001b[39m\u001b[94m \u001b[39m\u001b[94m \u001b[39m|\n",
      "| \u001b[94m \u001b[39m\u001b[94m \u001b[39m\u001b[94m \u001b[39m\u001b[94m \u001b[39m\u001b[94m \u001b[39m\u001b[94m \u001b[39m\u001b[94m \u001b[39m\u001b[94m \u001b[39m\u001b[94m \u001b[39m\u001b[94m \u001b[39m\u001b[94m \u001b[39m\u001b[94m \u001b[39m\u001b[94m \u001b[39m\u001b[94m \u001b[39m\u001b[94m \u001b[39m\u001b[94m \u001b[39m\u001b[94m \u001b[39m\u001b[94m \u001b[39m\u001b[94m \u001b[39m\u001b[94m \u001b[39m\u001b[94m \u001b[39m\u001b[94m \u001b[39m\u001b[94m \u001b[39m\u001b[94m \u001b[39m\u001b[94m \u001b[39m\u001b[94m \u001b[39m\u001b[94m \u001b[39m\u001b[94m \u001b[39m\u001b[94m \u001b[39m\u001b[94m \u001b[39m\u001b[94m \u001b[39m|\n",
      "| \u001b[94m \u001b[39m\u001b[94m \u001b[39m\u001b[94m \u001b[39m\u001b[94m \u001b[39m\u001b[94m*\u001b[39m\u001b[94m \u001b[39m\u001b[94m \u001b[39m\u001b[94m \u001b[39m\u001b[94m \u001b[39m\u001b[94m \u001b[39m\u001b[94m \u001b[39m\u001b[94m \u001b[39m\u001b[94m \u001b[39m\u001b[94m \u001b[39m\u001b[94m \u001b[39m\u001b[94m \u001b[39m\u001b[94m \u001b[39m\u001b[94m \u001b[39m\u001b[94m \u001b[39m\u001b[94m \u001b[39m\u001b[94m \u001b[39m\u001b[94m \u001b[39m\u001b[94m \u001b[39m\u001b[94m \u001b[39m\u001b[94m \u001b[39m\u001b[94m \u001b[39m\u001b[94m \u001b[39m\u001b[94m \u001b[39m\u001b[94m \u001b[39m\u001b[94m \u001b[39m\u001b[94m \u001b[39m|\n",
      "| \u001b[94m \u001b[39m\u001b[94m \u001b[39m\u001b[94m \u001b[39m\u001b[94m \u001b[39m\u001b[94m \u001b[39m\u001b[94m \u001b[39m\u001b[94m \u001b[39m\u001b[94m \u001b[39m\u001b[94m \u001b[39m\u001b[94m \u001b[39m\u001b[94m \u001b[39m\u001b[94m \u001b[39m\u001b[94m \u001b[39m\u001b[94m \u001b[39m\u001b[94m \u001b[39m\u001b[94m \u001b[39m\u001b[94m \u001b[39m\u001b[94m \u001b[39m\u001b[94m \u001b[39m\u001b[94m \u001b[39m\u001b[94m \u001b[39m\u001b[94m \u001b[39m\u001b[94m \u001b[39m\u001b[94m \u001b[39m\u001b[94m \u001b[39m\u001b[94m \u001b[39m\u001b[94m \u001b[39m\u001b[94m \u001b[39m\u001b[94m \u001b[39m\u001b[94m \u001b[39m\u001b[94m \u001b[39m|\n",
      "| \u001b[94m \u001b[39m\u001b[94m \u001b[39m\u001b[94m \u001b[39m\u001b[94m \u001b[39m\u001b[94m \u001b[39m\u001b[94m \u001b[39m\u001b[94m \u001b[39m\u001b[94m \u001b[39m\u001b[94m \u001b[39m\u001b[94m \u001b[39m\u001b[94m \u001b[39m\u001b[94m \u001b[39m\u001b[94m \u001b[39m\u001b[94m \u001b[39m\u001b[94m \u001b[39m\u001b[94m \u001b[39m\u001b[94m \u001b[39m\u001b[94m \u001b[39m\u001b[94m \u001b[39m\u001b[94m \u001b[39m\u001b[94m \u001b[39m\u001b[94m \u001b[39m\u001b[94m \u001b[39m\u001b[94m \u001b[39m\u001b[94m \u001b[39m\u001b[94m \u001b[39m\u001b[94m \u001b[39m\u001b[94m \u001b[39m\u001b[94m \u001b[39m\u001b[94m \u001b[39m\u001b[94m \u001b[39m|\n",
      "| \u001b[94m \u001b[39m\u001b[94m \u001b[39m\u001b[94m \u001b[39m\u001b[94m \u001b[39m\u001b[94m \u001b[39m\u001b[94m \u001b[39m\u001b[94m \u001b[39m\u001b[94m \u001b[39m\u001b[94m \u001b[39m\u001b[94m \u001b[39m\u001b[94m \u001b[39m\u001b[94m \u001b[39m\u001b[94m \u001b[39m\u001b[94m \u001b[39m\u001b[94m \u001b[39m\u001b[94m \u001b[39m\u001b[94m \u001b[39m\u001b[94m \u001b[39m\u001b[94m \u001b[39m\u001b[94m \u001b[39m\u001b[94m \u001b[39m\u001b[94m \u001b[39m\u001b[94m \u001b[39m\u001b[94m \u001b[39m\u001b[94m \u001b[39m\u001b[94m \u001b[39m\u001b[94m \u001b[39m\u001b[94m \u001b[39m\u001b[94m \u001b[39m\u001b[94m \u001b[39m\u001b[94m \u001b[39m|\n",
      "| \u001b[94m \u001b[39m\u001b[94m \u001b[39m\u001b[94m \u001b[39m\u001b[94m \u001b[39m\u001b[94m \u001b[39m\u001b[94m \u001b[39m\u001b[94m \u001b[39m\u001b[94m \u001b[39m\u001b[94m \u001b[39m\u001b[94m \u001b[39m\u001b[94m*\u001b[39m\u001b[94m \u001b[39m\u001b[94m \u001b[39m\u001b[94m \u001b[39m\u001b[94m \u001b[39m\u001b[94m \u001b[39m\u001b[94m \u001b[39m\u001b[94m \u001b[39m\u001b[94m \u001b[39m\u001b[94m \u001b[39m\u001b[94m \u001b[39m\u001b[94m \u001b[39m\u001b[94m \u001b[39m\u001b[94m \u001b[39m\u001b[94m \u001b[39m\u001b[94m \u001b[39m\u001b[94m \u001b[39m\u001b[94m \u001b[39m\u001b[94m \u001b[39m\u001b[94m \u001b[39m\u001b[94m \u001b[39m|\n",
      "| \u001b[94m \u001b[39m\u001b[94m \u001b[39m\u001b[94m \u001b[39m\u001b[94m \u001b[39m\u001b[94m \u001b[39m\u001b[94m \u001b[39m\u001b[94m \u001b[39m\u001b[94m \u001b[39m\u001b[94m \u001b[39m\u001b[94m \u001b[39m\u001b[94m \u001b[39m\u001b[94m \u001b[39m\u001b[94m \u001b[39m\u001b[94m \u001b[39m\u001b[94m \u001b[39m\u001b[94m \u001b[39m\u001b[94m \u001b[39m\u001b[94m \u001b[39m\u001b[94m \u001b[39m\u001b[94m \u001b[39m\u001b[94m \u001b[39m\u001b[94m \u001b[39m\u001b[94m \u001b[39m\u001b[94m \u001b[39m\u001b[94m \u001b[39m\u001b[94m \u001b[39m\u001b[94m \u001b[39m\u001b[94m \u001b[39m\u001b[94m \u001b[39m\u001b[94m \u001b[39m\u001b[94m \u001b[39m|\n",
      "| \u001b[94m*\u001b[39m\u001b[94m \u001b[39m\u001b[94m \u001b[39m\u001b[94m \u001b[39m\u001b[94m \u001b[39m\u001b[94m \u001b[39m\u001b[94m \u001b[39m\u001b[94m \u001b[39m\u001b[94m \u001b[39m\u001b[94m \u001b[39m\u001b[94m \u001b[39m\u001b[94m \u001b[39m\u001b[94m \u001b[39m\u001b[94m \u001b[39m\u001b[94m \u001b[39m\u001b[94m \u001b[39m\u001b[94m \u001b[39m\u001b[94m \u001b[39m\u001b[94m \u001b[39m\u001b[94m \u001b[39m\u001b[94m \u001b[39m\u001b[94m \u001b[39m\u001b[94m \u001b[39m\u001b[94m \u001b[39m\u001b[94m \u001b[39m\u001b[94m \u001b[39m\u001b[94m \u001b[39m\u001b[94m \u001b[39m\u001b[94m \u001b[39m\u001b[94m \u001b[39m\u001b[94m \u001b[39m|\n",
      "----------------------------------------------------------------\n"
     ]
    }
   ],
   "source": [
    "# import required libraries\n",
    "from bashplotlib.scatterplot import plot_scatter\n",
    "plot_scatter(\"anscombes.csv\",\"none\",\"none\",30,'*','blue','Anscombes Set 1')\n"
   ]
  },
  {
   "cell_type": "markdown",
   "metadata": {},
   "source": [
    "## Emojis"
   ]
  },
  {
   "cell_type": "code",
   "execution_count": 37,
   "metadata": {},
   "outputs": [
    {
     "name": "stdout",
     "output_type": "stream",
     "text": [
      "👍\n",
      "😀\n"
     ]
    }
   ],
   "source": [
    "from emoji import emojize\n",
    "print(emojize(\":thumbs_up:\"))\n",
    "print(emojize(\":grinning_face:\"))"
   ]
  },
  {
   "cell_type": "code",
   "execution_count": null,
   "metadata": {},
   "outputs": [],
   "source": []
  }
 ],
 "metadata": {
  "kernelspec": {
   "display_name": "Python 3",
   "language": "python",
   "name": "python3"
  },
  "language_info": {
   "codemirror_mode": {
    "name": "ipython",
    "version": 3
   },
   "file_extension": ".py",
   "mimetype": "text/x-python",
   "name": "python",
   "nbconvert_exporter": "python",
   "pygments_lexer": "ipython3",
   "version": "3.7.3"
  }
 },
 "nbformat": 4,
 "nbformat_minor": 4
}
